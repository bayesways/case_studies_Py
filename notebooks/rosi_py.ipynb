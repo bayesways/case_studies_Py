{
 "cells": [
  {
   "cell_type": "markdown",
   "metadata": {},
   "source": [
    "# Latent Variable Model for Mixed Type Data with Stan\n",
    "## Konstantinos Vamvourellis"
   ]
  },
  {
   "cell_type": "markdown",
   "metadata": {},
   "source": [
    "You can find instructions for installing PyStan over [here](http://pystan.readthedocs.io/en/latest/installation_beginner.html)."
   ]
  },
  {
   "cell_type": "code",
   "execution_count": 1,
   "metadata": {},
   "outputs": [
    {
     "name": "stdout",
     "output_type": "stream",
     "text": [
      "2.17.1.0\n"
     ]
    }
   ],
   "source": [
    "import pystan\n",
    "\n",
    "print(pystan.__version__)"
   ]
  },
  {
   "cell_type": "code",
   "execution_count": 2,
   "metadata": {},
   "outputs": [],
   "source": [
    "import pickle\n",
    "\n",
    "import matplotlib.pyplot as plt\n",
    "import numpy as np\n",
    "import pandas as pd\n",
    "import seaborn as sns\n",
    "\n",
    "from numpy.linalg import inv, cholesky\n",
    "from numpy.random import uniform\n",
    "from scipy.special import expit\n",
    "from scipy.stats import multivariate_normal, bernoulli"
   ]
  },
  {
   "cell_type": "code",
   "execution_count": 3,
   "metadata": {},
   "outputs": [],
   "source": [
    "# Plot Styling\n",
    "%matplotlib inline\n",
    "sns.set()\n",
    "sns.set_style(\"darkgrid\")\n",
    "color = 'salmon'\n",
    "alpha = .7\n",
    "bins = 100\n",
    "lw = 2\n",
    "linestyle = '-'\n",
    "linecolor = 'r'\n",
    "linealpha = .8"
   ]
  },
  {
   "cell_type": "markdown",
   "metadata": {},
   "source": [
    "# A case study in analyzing clinical trials data\n",
    "\n",
    "To illustrate the model we use a specific case study of modeling clinical trials to extract insights that can be useful for regulators. We propose a Bayesian method to model clinical trial data. This model uses\n",
    "latent variables to account for the whole joint distribution of the treatment effects, including effects of different types.  Our goal is to use the data to predict the effect of the treatment to a new patient.\n",
    "\n",
    "\n",
    "## When to approve a drug?\n",
    "\n",
    "Regulators focus on a few key factors when deciding whether a drug is fit to enter the market. In the case of Rosiglitazone, for example, previous work (Phillips et al. 2013). concentrated on 11 of the drug's effects, weighing positive effects against negative effects. Clinical trials data are presented to experts and clinicians to assess the safety of the drug. The clinical analysis of trial data is based on statistical summaries of the data, including averages, standard deviations, and signifiance levels. However, dependencies between the effects are the subject of clinical judgment and are rarely included in the statistical summaries.\n",
    "\n",
    "We propose a Bayesian method to model clinical trial data. This model uses latent variables to account for the whole joint distribution of the treatment effects, including effects of different types. This model will allow us to simulate the effect of the drug on a new patient. Regulators could use this results to inform their decisions on whether to approve a drug or not. \n",
    "\n",
    "## How to model the dependence between discrete and continuous observations?\n",
    "\n",
    "It is common in clinical trials to collect \"yes/no\" data. We want to fully model this process of interrelated dependencies, incorporate the dependence between the different measurements for each person, and account for uncertainty. Furthermore, datapoints collected in clinical trials are routinely of mixed type: binary, continuous, counts, etc. The main purpose of this work is to extend the current framework so that it can incorporate interdependencies between different features, both discrete and continuous.\n",
    "\n",
    "Our data is organized with one subject per row and one effect per column. For example, if our clinical trial dataset records 3 effects per subject, 'Hemoglobin Levels' (continuous), 'Nausea' (yes/no) and 'Dyspepsia' (yes/no) the dataset would look like this:\n",
    "\n",
    "|Subject ID| Group Type|Hemoglobin Level  | Dyspepsia |Nausea |\n",
    "|--------- | --------- | -------- | ---------|---------|\n",
    "|123 | Control    | 3.42  | 1 |0 |\n",
    "|213 | Treatment  | 4.41  | 1 |0 |\n",
    "|431 | Control    | 1.12  | 0 |0 |\n",
    "|224 | Control    | -0.11 | 1 |0 |\n",
    "|224 | Treatment  | 2.42  | 1 |1 |\n",
    "\n",
    "To model the effects of a drug we need a generative model for these 3 effects that also allows for dependencies between these effects. It stands to reason that the probability of a subject experiencing Nausea is not independent of the probability of experiencing Dyspepsia. To this end, we adopt a parametric generative model to learn the covariance matrix directly. \n",
    "\n",
    "We denote the observed data by $y$ and the parameters of the model by $\\theta$. We are then interested in the posterior distribution $\\pi(\\theta | y)$, with which we can draw samples from the distribution of effects $f(y'|y)$ on future, so far unseen, patients $y'$ conditional on observations $y$ as follows:\n",
    "\n",
    "$$\n",
    "f(y'|y) = \\int f(y'|y,\\theta) \\pi(\\theta|y) d\\theta\n",
    "$$\n",
    "In practice we cannot analytically derive the full posterior $\\pi(\\theta | y)$, but we can get samples from it using _Stan_. Consequently, we can approximate the expectation of any function $h(y')$ on the future data\n",
    "$$\n",
    "\\mathbb{E} (h (y') | y) = \\int \\int h(y') f(y'|y,\\theta) \\pi(\\theta|y) d\\theta dy' = \\int h(y') f(y'|y) dy'\n",
    "$$\n",
    "using Monte Carlo.\n",
    "\n",
    "We assume that each subject is independently and identically distributed within its group. We run inference for each group separately and get two sets of parameters, one for the treatment group and one for the placebo, also known as control group. Using the samples from the predictive distribution of each group we can produce samples for the difference between the two groups. Generally, with these posterior samples we can compute any value of interest currently used to decide whether to approve the drug. As an application, we will later show what such an evaluation function looks like and work through a complete example (see Application section).\n",
    "\n",
    "# Methodology\n",
    "\n",
    "Let $Y$ be a $N\\times K$ matrix where each column represents an effect and each row refers to an individual subject. This is our observations, our clinical trials dataset. In order to distinguish the treatment from placebo subjects, we will analyse the data for each group $Y^T$ and $Y^{C}$ separately. As the model for $Y^T$ and $Y^{C}$ is identical, we suppress the notation into $Y$ in the remainder of this section for convenience. Recall that the important feature of the data is that each column in $Y$ may be measured on different scales, i.e. binary, count or continuous etc. The main purpose of this work is to extend the current framework so that it can incorporate interdependencies between different features, both discrete and continuous.\n",
    "\n",
    "We consider the following general latent variable framework. The idea to assign appropriate distributions on each column and apply appropriate transformations on their parameters via user specified link functions $h_{j}(\\cdot)$, so that everything is brought on the same scale. For example, let's fix our attention on the $i$-th subject for a moment. Then if the $j$-th effect is measured in the binary scale, the model can be\n",
    "\n",
    "\\begin{equation}\n",
    "\\label{eq:binary}\n",
    "\\begin{cases}\n",
    "Y_{ij}\\; \\sim\\; \\text{Bernoulli}(\\eta_j),\\;i=1,\\dots,N,\\;Y_{ij} \\text{ independent, for fixed } j\\\\\n",
    "h_{j}(\\eta_j) \\; = \\; \\mu_j + Z_{ij},\\\\\n",
    "\\end{cases}\n",
    "\\end{equation}\n",
    "\n",
    "where the link function can be the logit, probit or any other bijection from $[0, 1]$ to the real line. Similarly, for count data on the $j$-th column we can adopt the following model\n",
    "\n",
    "\\begin{equation}\n",
    "\\label{eq:counts}\n",
    "\\begin{cases}\n",
    "Y_{ij}\\; \\sim\\; \\text{Poisson}(\\eta_j),\\;i=1,\\dots,N,\\;Y_{ij} \\text{ independent, for fixed } j\\\\\n",
    "h_{j}(\\eta_j) \\; = \\; \\mu_j + Z_{ij}. \n",
    "\\end{cases}\n",
    "\\end{equation}\n",
    "\n",
    "where $h_{j}(\\cdot)$ could be the natural logarithm, whereas for continuous data one can simply write \n",
    "\n",
    "\\begin{equation}\n",
    "\\label{eq:contain}\n",
    "Y_{ij}\\; = \\; \\mu_j + Z_{ij},\\;i=1,\\dots,N.\\\\\n",
    "\\end{equation}\n",
    "\n",
    "In order to complete the model we need to define the $N\\times K$ matrix $Z$. Here we use a K-variate Normal distribution $\\mathcal{N}_K(\\cdot)$ on each $Z_{i :}$ row, such that\n",
    "\n",
    "\n",
    "\\begin{equation}\n",
    "\\label{eq:Zdist}\n",
    "Z_{i\\cdot} \\;\\sim\\; \\mathcal{N}_{K}(0_{K},\\Sigma),\n",
    "\\end{equation}\n",
    "\n",
    "where $\\Sigma$ is a $K\\times K$ covariance matrix, $O_{K}$ is a row $K$-dimensional vector with zeros and $Z_{i\\cdot}$ are independent for all $i$. Of course other options are available, e.g. a multivariate $t$.\n",
    "\n",
    "In the model above, vector $\\mu=(\\mu_{1},\\dots,\\mu_K)$ represents quantities related with the mean of each effect, whereas matrix $\\Sigma$ models their covariance. Note that the variance of binary variables is non identifiable (Chib and Greenberg (1998), Talhouk, Doucet, and Murphy (2012)), so we focus on the correlation matrix instead."
   ]
  },
  {
   "cell_type": "markdown",
   "metadata": {},
   "source": [
    "## Fake Data generation  \n",
    "\n",
    "We will fit the model with synthetic data that we generate as follows: "
   ]
  },
  {
   "cell_type": "code",
   "execution_count": 6,
   "metadata": {},
   "outputs": [],
   "source": [
    "def C_to_R(M):\n",
    "    \"\"\"\n",
    "    Send a covariance matrix M to the corresponding\n",
    "    correlation matrix R\n",
    "    Inputs\n",
    "    ============\n",
    "    - M : covariance matrix\n",
    "    Output\n",
    "    ============\n",
    "    - correlation matrix\n",
    "    \"\"\"\n",
    "\n",
    "    d = np.asarray(M.diagonal())\n",
    "    d2 = np.diag(d**(-.5))\n",
    "    R = d2 @ M @ d2\n",
    "    return R\n",
    "\n",
    "\n",
    "def gen_mean(Kc, Kb, random_seed = None):\n",
    "    if random_seed is not None:\n",
    "        np.random.seed(random_seed)\n",
    "\n",
    "    # Means for Group 1\n",
    "    mu_c = uniform(-10, 10, size=Kc)\n",
    "    mu_b = uniform(-1, 1, size=Kb)\n",
    "    mu1 = np.concatenate([mu_c, mu_b], axis=0)\n",
    "\n",
    "    # Means for Group 2\n",
    "    mu2 = mu1.copy()\n",
    "    mu2[:Kc] = mu2[:Kc] + uniform(-1, 0, size=Kc)\n",
    "    mu2[Kc:] = mu2[Kc:] + uniform(-.5, 0, size=Kb)\n",
    "\n",
    "    return mu1, mu2\n",
    "\n",
    "\n",
    "def gen_data(N, Kc, Kb, mu=None, R=None, sigma=None, random_seed = None):\n",
    "    \"\"\"\n",
    "    Generate data of dimension [N,Kb+Kc] first binary then continuous\n",
    "    Inputs\n",
    "    ============\n",
    "    - N : number of rows/subjects\n",
    "    - Kb : number of binary effects\n",
    "    - Kc : number of conitnuous effects\n",
    "    - lklhd_option\n",
    "    Output\n",
    "    ============\n",
    "    - dictionary of data, mu, R, sigma, latent variabel z\n",
    "    \"\"\"\n",
    "    K = Kb+Kc # total number of effects\n",
    "    if random_seed is not None:\n",
    "        np.random.seed(random_seed)\n",
    "\n",
    "   # Means\n",
    "    if mu is None:\n",
    "        mu_c = uniform(-10,10, size = Kc)\n",
    "        mu_b = uniform(-1,1,size = Kb)\n",
    "        mu = np.concatenate([mu_c,mu_b], axis=0)\n",
    "    # Choose standard deviations\n",
    "    if sigma is None:\n",
    "        sigma_c = uniform(1,4,size= Kc)\n",
    "        sigma_b = np.ones(Kb)\n",
    "        sigma = np.concatenate((sigma_c, sigma_b), axis=0)\n",
    "    # Correlation matrix\n",
    "    if R is None:\n",
    "        A = np.tril(uniform(-1, 1, size=(K, K)))\n",
    "        C = A @ A.T \n",
    "        R = C_to_R(C)\n",
    "        \n",
    "    # Construct the covariance matrix\n",
    "    D = np.diag(sigma)\n",
    "    Sigma =  D @ R @ D\n",
    "    # Latent Variables Z's\n",
    "    z = multivariate_normal.rvs(mean=mu, cov=Sigma, size=N)\n",
    "    #Generate observed Y\n",
    "    yc = np.empty((N,Kc))\n",
    "    yc = z[:,:Kc]\n",
    "\n",
    "    yb = np.empty((N,Kb))\n",
    "    yb = bernoulli.rvs(p=expit(z[:,Kc:])).astype(int)\n",
    " \n",
    "\n",
    "    output = {\"yb\":yb,\n",
    "              \"yc\":yc,\n",
    "              \"Kb\":Kb,\n",
    "              \"Kc\":Kc,\n",
    "              \"K\": K,\n",
    "              \"N\": N,\n",
    "              \"mu\":mu,\n",
    "              \"sigma\":sigma,\n",
    "              \"R\":R,\n",
    "              \"Sigma\":Sigma,\n",
    "              \"z\":z,\n",
    "              \"random_seed\": random_seed}\n",
    "    return output\n"
   ]
  },
  {
   "cell_type": "markdown",
   "metadata": {},
   "source": [
    "It's good practice to save the data and posterior samples of the model fit to it. \n",
    "In our case, we will need it again when we demonstrate how to fit the model on the real datasets. For the purposes of this notebook, we will re-use this data in place of the hypothetical control group dataset. We can save the data and the samples as follows:"
   ]
  },
  {
   "cell_type": "code",
   "execution_count": 7,
   "metadata": {},
   "outputs": [],
   "source": [
    "Kc = 1\n",
    "Kb = 2\n",
    "N = 200\n",
    "mu1, mu2 = gen_mean(Kc=Kc, Kb=Kb, random_seed=14)\n",
    "\n",
    "data_control = gen_data(N = N, Kc = Kc, Kb = Kb, mu = mu1, random_seed=124 )\n",
    "data_treat = gen_data(N = N, Kc = Kc, Kb = Kb, mu = mu2, random_seed=124 )\n"
   ]
  },
  {
   "cell_type": "markdown",
   "metadata": {},
   "source": [
    "# Stan Code\n",
    "\n",
    "For this case study we use a logit link function. The Stan program encoding this model is the following:"
   ]
  },
  {
   "cell_type": "code",
   "execution_count": 4,
   "metadata": {},
   "outputs": [
    {
     "name": "stdout",
     "output_type": "stream",
     "text": [
      "data {\n",
      " int<lower=0> N;\n",
      " int<lower=0> K;\n",
      " int<lower=0> Kb;\n",
      " int<lower=0> Kc;\n",
      " int<lower=0, upper=1> yb[N, Kb];\n",
      " vector[Kc] yc[N];\n",
      "}\n",
      "\n",
      "transformed data {\n",
      "  matrix[Kc, Kc] I = diag_matrix(rep_vector(1, Kc));\n",
      "}\n",
      "\n",
      "parameters {\n",
      "  vector[Kb] zb[N];\n",
      "  cholesky_factor_corr[K] L_R;  // first continuous, then binary\n",
      "  vector<lower=0>[Kc] sigma;\n",
      "  vector[K] mu;\n",
      "}\n",
      "\n",
      "transformed parameters {\n",
      "  matrix[N, Kb] z;\n",
      "  vector[Kc] mu_c = head(mu, Kc);\n",
      "  vector[Kb] mu_b = tail(mu, Kb);\n",
      "  {\n",
      "    matrix[Kc, Kc] L_inv = mdivide_left_tri_low(diag_pre_multiply(sigma, L_R[1:Kc, 1:Kc]), I);\n",
      "    for (n in 1:N){\n",
      "      vector[Kc] resid = L_inv * (yc[n] - mu_c);\n",
      "      z[n,] = transpose(mu_b + tail(L_R * append_row(resid, zb[n]), Kb));\n",
      "    }\n",
      "  }\n",
      "}\n",
      "\n",
      "model {\n",
      "  mu ~ normal(0, 10);\n",
      "  L_R ~ lkj_corr_cholesky(2);\n",
      "  sigma~cauchy(0, 2.5);\n",
      "  yc ~ multi_normal_cholesky(mu_c, diag_pre_multiply(sigma, L_R[1:Kc, 1:Kc]));\n",
      "  for (n in 1:N) zb[n] ~ normal(0, 1);\n",
      "  for (k in 1:Kb) yb[, k] ~ bernoulli_logit(z[, k]);\n",
      "}\n",
      "\n",
      "generated quantities {\n",
      "  matrix[K, K] R = multiply_lower_tri_self_transpose(L_R);\n",
      "  vector[K] full_sigma = append_row(sigma, rep_vector(1, Kb));\n",
      "  matrix[K, K] Sigma = multiply_lower_tri_self_transpose(diag_pre_multiply(full_sigma, L_R));\n",
      "}\n",
      "\n"
     ]
    }
   ],
   "source": [
    "with open('../models/modelcode.stan', 'r') as file:\n",
    "    print(file.read())"
   ]
  },
  {
   "cell_type": "code",
   "execution_count": 5,
   "metadata": {},
   "outputs": [],
   "source": [
    "with open('../models/modelcode.stan', 'r') as file:\n",
    "    model_code = file.read()"
   ]
  },
  {
   "cell_type": "markdown",
   "metadata": {},
   "source": [
    "We compile the model with the following code."
   ]
  },
  {
   "cell_type": "code",
   "execution_count": 8,
   "metadata": {},
   "outputs": [
    {
     "name": "stderr",
     "output_type": "stream",
     "text": [
      "INFO:pystan:COMPILING THE C++ CODE FOR MODEL anon_model_389cd056347577840573e8f6df0e7636 NOW.\n",
      "INFO:pystan:OS: darwin, Python: 3.6.4 | packaged by conda-forge | (default, Dec 23 2017, 16:54:01) \n",
      "[GCC 4.2.1 Compatible Apple LLVM 6.1.0 (clang-602.0.53)], Cython 0.27.3\n"
     ]
    },
    {
     "name": "stdout",
     "output_type": "stream",
     "text": [
      "Compiling /var/folders/9j/qb9gcwnj2lnb77886qjkmnfm0000gn/T/tmp3avto_s2/stanfit4anon_model_389cd056347577840573e8f6df0e7636_734081454462764819.pyx because it changed.\n",
      "[1/1] Cythonizing /var/folders/9j/qb9gcwnj2lnb77886qjkmnfm0000gn/T/tmp3avto_s2/stanfit4anon_model_389cd056347577840573e8f6df0e7636_734081454462764819.pyx\n",
      "building 'stanfit4anon_model_389cd056347577840573e8f6df0e7636_734081454462764819' extension\n",
      "creating /var/folders/9j/qb9gcwnj2lnb77886qjkmnfm0000gn/T/tmp3avto_s2/var\n",
      "creating /var/folders/9j/qb9gcwnj2lnb77886qjkmnfm0000gn/T/tmp3avto_s2/var/folders\n",
      "creating /var/folders/9j/qb9gcwnj2lnb77886qjkmnfm0000gn/T/tmp3avto_s2/var/folders/9j\n",
      "creating /var/folders/9j/qb9gcwnj2lnb77886qjkmnfm0000gn/T/tmp3avto_s2/var/folders/9j/qb9gcwnj2lnb77886qjkmnfm0000gn\n",
      "creating /var/folders/9j/qb9gcwnj2lnb77886qjkmnfm0000gn/T/tmp3avto_s2/var/folders/9j/qb9gcwnj2lnb77886qjkmnfm0000gn/T\n",
      "creating /var/folders/9j/qb9gcwnj2lnb77886qjkmnfm0000gn/T/tmp3avto_s2/var/folders/9j/qb9gcwnj2lnb77886qjkmnfm0000gn/T/tmp3avto_s2\n",
      "gcc -Wno-unused-result -Wsign-compare -Wunreachable-code -DNDEBUG -g -fwrapv -O3 -Wall -Wstrict-prototypes -I/Users/itemgmt/anaconda2/envs/mixed-data/include -arch x86_64 -I/Users/itemgmt/anaconda2/envs/mixed-data/include -arch x86_64 -DBOOST_RESULT_OF_USE_TR1 -DBOOST_NO_DECLTYPE -DBOOST_DISABLE_ASSERTS -I/var/folders/9j/qb9gcwnj2lnb77886qjkmnfm0000gn/T/tmp3avto_s2 -I/Users/itemgmt/anaconda2/envs/mixed-data/lib/python3.6/site-packages/pystan -I/Users/itemgmt/anaconda2/envs/mixed-data/lib/python3.6/site-packages/pystan/stan/src -I/Users/itemgmt/anaconda2/envs/mixed-data/lib/python3.6/site-packages/pystan/stan/lib/stan_math -I/Users/itemgmt/anaconda2/envs/mixed-data/lib/python3.6/site-packages/pystan/stan/lib/stan_math/lib/eigen_3.3.3 -I/Users/itemgmt/anaconda2/envs/mixed-data/lib/python3.6/site-packages/pystan/stan/lib/stan_math/lib/boost_1.64.0 -I/Users/itemgmt/anaconda2/envs/mixed-data/lib/python3.6/site-packages/pystan/stan/lib/stan_math/lib/cvodes_2.9.0/include -I/Users/itemgmt/anaconda2/envs/mixed-data/lib/python3.6/site-packages/numpy/core/include -I/Users/itemgmt/anaconda2/envs/mixed-data/include/python3.6m -c /var/folders/9j/qb9gcwnj2lnb77886qjkmnfm0000gn/T/tmp3avto_s2/stanfit4anon_model_389cd056347577840573e8f6df0e7636_734081454462764819.cpp -o /var/folders/9j/qb9gcwnj2lnb77886qjkmnfm0000gn/T/tmp3avto_s2/var/folders/9j/qb9gcwnj2lnb77886qjkmnfm0000gn/T/tmp3avto_s2/stanfit4anon_model_389cd056347577840573e8f6df0e7636_734081454462764819.o -O2 -ftemplate-depth-256 -Wno-unused-function -Wno-uninitialized\n",
      "g++ -bundle -undefined dynamic_lookup -Wl,-rpath,/Users/itemgmt/anaconda2/envs/mixed-data/lib -L/Users/itemgmt/anaconda2/envs/mixed-data/lib -headerpad_max_install_names -Wl,-rpath,/Users/itemgmt/anaconda2/envs/mixed-data/lib -L/Users/itemgmt/anaconda2/envs/mixed-data/lib -headerpad_max_install_names -arch x86_64 /var/folders/9j/qb9gcwnj2lnb77886qjkmnfm0000gn/T/tmp3avto_s2/var/folders/9j/qb9gcwnj2lnb77886qjkmnfm0000gn/T/tmp3avto_s2/stanfit4anon_model_389cd056347577840573e8f6df0e7636_734081454462764819.o -L/Users/itemgmt/anaconda2/envs/mixed-data/lib -o /var/folders/9j/qb9gcwnj2lnb77886qjkmnfm0000gn/T/tmp3avto_s2/stanfit4anon_model_389cd056347577840573e8f6df0e7636_734081454462764819.cpython-36m-darwin.so\n"
     ]
    }
   ],
   "source": [
    "sm = pystan.StanModel(model_code=model_code, verbose=True)"
   ]
  },
  {
   "cell_type": "markdown",
   "metadata": {},
   "source": [
    "We fit the model with the following code"
   ]
  },
  {
   "cell_type": "code",
   "execution_count": 9,
   "metadata": {},
   "outputs": [
    {
     "name": "stderr",
     "output_type": "stream",
     "text": [
      "/Users/itemgmt/anaconda2/envs/mixed-data/lib/python3.6/site-packages/pystan/misc.py:399: FutureWarning: Conversion of the second argument of issubdtype from `float` to `np.floating` is deprecated. In future, it will be treated as `np.float64 == np.dtype(float).type`.\n",
      "  elif np.issubdtype(np.asarray(v).dtype, float):\n"
     ]
    }
   ],
   "source": [
    "fit_control = sm.sampling(data=data_control, iter=1000, chains=4)"
   ]
  },
  {
   "cell_type": "markdown",
   "metadata": {},
   "source": [
    "We save the extracted samples to be used later again"
   ]
  },
  {
   "cell_type": "code",
   "execution_count": 10,
   "metadata": {},
   "outputs": [],
   "source": [
    "post_samples_control = fit_control.extract(permuted=True)  # return a dictionary of arrays\n",
    "pickle.dump(post_samples_control, open(\"fit_control.pkl\", \"wb\"))"
   ]
  },
  {
   "cell_type": "markdown",
   "metadata": {},
   "source": [
    "To avoid waiting we can load the pre-fit result as follows:"
   ]
  },
  {
   "cell_type": "code",
   "execution_count": 11,
   "metadata": {},
   "outputs": [],
   "source": [
    "post_samples_control = pickle.load(open(\"fit_control.pkl\", \"rb\"))"
   ]
  },
  {
   "cell_type": "markdown",
   "metadata": {},
   "source": [
    "## Model Diagnostics\n",
    "We see that max `Rhat` values are good, below 1.01. The effective sample size `n_eff` is good and the rest of the diagnostics are clean.\n",
    "Below we plot histograms of posterior samples for the mean, correlations and variance of the effects against the true values. "
   ]
  },
  {
   "cell_type": "code",
   "execution_count": 12,
   "metadata": {
    "scrolled": false
   },
   "outputs": [
    {
     "name": "stdout",
     "output_type": "stream",
     "text": [
      "Inference for Stan model: anon_model_389cd056347577840573e8f6df0e7636.\n",
      "4 chains, each with iter=1000; warmup=500; thin=1; \n",
      "post-warmup draws per chain=500, total post-warmup draws=2000.\n",
      "\n",
      "           mean se_mean     sd   2.5%    25%    50%    75%  97.5%  n_eff   Rhat\n",
      "mu[0]      0.36  2.1e-3   0.09   0.17    0.3   0.36   0.42   0.54   2000    1.0\n",
      "mu[1]      0.56  4.1e-3   0.18    0.2   0.44   0.56   0.69   0.94   2000    1.0\n",
      "mu[2]      0.67  4.0e-3   0.18   0.33   0.55   0.68   0.79   1.02   2000    1.0\n",
      "R[0,0]      1.0     0.0    0.0    1.0    1.0    1.0    1.0    1.0   2000    nan\n",
      "R[1,0]    -0.24  3.6e-3   0.16  -0.55  -0.35  -0.24  -0.13    0.1   2000    1.0\n",
      "R[2,0]    -0.38  3.6e-3   0.16  -0.69  -0.49  -0.39  -0.28  -0.05   2000    1.0\n",
      "R[0,1]    -0.24  3.6e-3   0.16  -0.55  -0.35  -0.24  -0.13    0.1   2000    1.0\n",
      "R[1,1]      1.0 2.1e-189.3e-17    1.0    1.0    1.0    1.0    1.0   1958    nan\n",
      "R[2,1]      0.1    0.01   0.32  -0.52  -0.12   0.11   0.32   0.69    550    1.0\n",
      "R[0,2]    -0.38  3.6e-3   0.16  -0.69  -0.49  -0.39  -0.28  -0.05   2000    1.0\n",
      "R[1,2]      0.1    0.01   0.32  -0.52  -0.12   0.11   0.32   0.69    550    1.0\n",
      "R[2,2]      1.0 1.7e-187.8e-17    1.0    1.0    1.0    1.0    1.0   2000    nan\n",
      "sigma[0]   1.28  1.4e-3   0.06   1.16   1.24   1.28   1.32   1.41   2000    1.0\n",
      "\n",
      "Samples were drawn using NUTS at Mon May 14 18:24:30 2018.\n",
      "For each parameter, n_eff is a crude measure of effective sample size,\n",
      "and Rhat is the potential scale reduction factor on split chains (at \n",
      "convergence, Rhat=1).\n"
     ]
    }
   ],
   "source": [
    "print(pystan.misc.stansummary(fit_control, pars=['mu', 'R', 'sigma']))"
   ]
  },
  {
   "cell_type": "markdown",
   "metadata": {},
   "source": [
    "## Model Fit Checks"
   ]
  },
  {
   "cell_type": "code",
   "execution_count": 13,
   "metadata": {},
   "outputs": [],
   "source": [
    "effect_names = np.array(['Hemoglobin Level','Dyspepsia', 'Nausea'])"
   ]
  },
  {
   "cell_type": "code",
   "execution_count": 38,
   "metadata": {},
   "outputs": [
    {
     "data": {
      "image/png": "[encoded data removed]",
      "text/plain": [
       "<Figure size 576x432 with 3 Axes>"
      ]
     },
     "metadata": {},
     "output_type": "display_data"
    }
   ],
   "source": [
    "\n",
    "K = data_control['Kb'] + data_control['Kc']\n",
    "title = \"Mean Values\"\n",
    "true_values = data_control['mu']\n",
    "df = pd.DataFrame(post_samples_control['mu'])\n",
    "df.columns = effect_names\n",
    "\n",
    "ax = df.plot.hist(subplots=True, title=title, color='blue',\n",
    "                  sharex=True, sharey =False,\n",
    "                  alpha=alpha, bins=bins,\n",
    "                  figsize=(8,6));\n",
    "\n",
    "for i in range(df.shape[1]):\n",
    "    ax[i].axvline(true_values[i], color='black', alpha=linealpha, linestyle=linestyle, lw=lw);"
   ]
  },
  {
   "cell_type": "code",
   "execution_count": 37,
   "metadata": {},
   "outputs": [
    {
     "data": {
      "image/png": "[encoded data removed]",
      "text/plain": [
       "<Figure size 576x144 with 1 Axes>"
      ]
     },
     "metadata": {},
     "output_type": "display_data"
    }
   ],
   "source": [
    "title = \"Sigma Values\"\n",
    "true_values = data_control['sigma']\n",
    "df = pd.DataFrame(post_samples_control['sigma'])\n",
    "df.columns = effect_names[:data_control['Kc']]\n",
    "\n",
    "ax = df.plot.hist(subplots=True, title=title, color='r',\n",
    "                  sharex=True, sharey =False,\n",
    "                  alpha=alpha, bins=bins,\n",
    "                  figsize=(8,2));\n",
    "\n",
    "for i in range(df.shape[1]):\n",
    "    ax[i].axvline(true_values[i], color='black', alpha=linealpha, linestyle=linestyle, lw=lw);"
   ]
  },
  {
   "cell_type": "code",
   "execution_count": 40,
   "metadata": {
    "scrolled": false
   },
   "outputs": [
    {
     "data": {
      "image/png": "[encoded data removed]",
      "text/plain": [
       "<Figure size 576x432 with 3 Axes>"
      ]
     },
     "metadata": {},
     "output_type": "display_data"
    }
   ],
   "source": [
    "def flatten_corr(a):\n",
    "    return a[np.triu_indices(a.shape[0], k=1)]\n",
    "\n",
    "\n",
    "title = \"Correlation Values\"\n",
    "true_values= data_control['R'][np.triu_indices(data_control['R'].shape[0], k=1)]\n",
    "\n",
    "\n",
    "Rs = post_samples_control['R']\n",
    "num_of_samples = Rs.shape[0]\n",
    "\n",
    "colnames = effect_names\n",
    "cnames = zip(colnames[np.triu_indices(colnames.shape[0], k=1)[0]],\n",
    "             colnames[np.triu_indices(colnames.shape[0], k=1)[1]])\n",
    "\n",
    "cnames = list(cnames)\n",
    "\n",
    "M = len(cnames)\n",
    "fRs = np.empty((num_of_samples, M))\n",
    "for i in range (num_of_samples):\n",
    "    fRs[i, :] = flatten_corr(Rs[i, :, :])\n",
    "\n",
    "df = pd.DataFrame(fRs)\n",
    "df.columns = cnames\n",
    "\n",
    "\n",
    "ax = df.plot.hist(subplots=True, title=title, color='y',\n",
    "                  sharex=True, sharey =False,\n",
    "                  alpha=alpha, bins=bins,\n",
    "                  figsize=(8,6));\n",
    "\n",
    "for i in range(df.shape[1]):\n",
    "    ax[i].axvline(true_values[i], color='black', alpha=linealpha, linestyle=linestyle, lw=lw);"
   ]
  },
  {
   "cell_type": "markdown",
   "metadata": {},
   "source": [
    "## Fiting to the real data \n",
    "\n",
    "In this case study we do not have any real data to share. For demonstration purposes we will pretend that  `data_control` and `data_treat`, the two groups we generated earlier, are real data. We would then fit the model to each dataset separately saving the results. Since we have already fit it to the control data, we only need to fit it to the treatment data. \n"
   ]
  },
  {
   "cell_type": "code",
   "execution_count": 17,
   "metadata": {},
   "outputs": [
    {
     "name": "stderr",
     "output_type": "stream",
     "text": [
      "/Users/itemgmt/anaconda2/envs/mixed-data/lib/python3.6/site-packages/pystan/misc.py:399: FutureWarning: Conversion of the second argument of issubdtype from `float` to `np.floating` is deprecated. In future, it will be treated as `np.float64 == np.dtype(float).type`.\n",
      "  elif np.issubdtype(np.asarray(v).dtype, float):\n"
     ]
    }
   ],
   "source": [
    "fit_treat = sm.sampling(data=data_treat, iter=1000, chains=4)"
   ]
  },
  {
   "cell_type": "markdown",
   "metadata": {},
   "source": [
    "We save the extracted samples to be used later again"
   ]
  },
  {
   "cell_type": "code",
   "execution_count": 19,
   "metadata": {},
   "outputs": [],
   "source": [
    "post_samples_treat = fit_treat.extract(permuted=True)  # return a dictionary of arrays\n",
    "pickle.dump(post_samples_treat, open(\"fit_treat.pkl\", \"wb\"))"
   ]
  },
  {
   "cell_type": "markdown",
   "metadata": {},
   "source": [
    "## Prediction of treatment effect\n",
    "\n",
    "Now that we have samples we can answer the research question of interest. We are interested in the posterior predictive distribution of the effect for a new patient under the different groups. Similarly we can calculate the posterior distribution of any other metric that depends on the parameters of the model. "
   ]
  },
  {
   "cell_type": "code",
   "execution_count": 115,
   "metadata": {},
   "outputs": [],
   "source": [
    "def gen_row(mu, Sigma, Kc):\n",
    "    z = multivariate_normal.rvs(mean=mu, cov=Sigma)\n",
    "    z[Kc:] = expit(z[Kc:]) \n",
    "    return z\n",
    "\n",
    "def predictive_dist(post_samples, Kc):\n",
    "    pred = np.empty(post_samples['mu'].shape)\n",
    "    N = pred.shape[0]\n",
    "    for i in range(N):\n",
    "        pred[i] = gen_row(post_samples['mu'][i], post_samples['Sigma'][i], Kc)\n",
    "    return pred\n"
   ]
  },
  {
   "cell_type": "code",
   "execution_count": 116,
   "metadata": {},
   "outputs": [
    {
     "data": {
      "text/html": [
       "<div>\n",
       "<style scoped>\n",
       "    .dataframe tbody tr th:only-of-type {\n",
       "        vertical-align: middle;\n",
       "    }\n",
       "\n",
       "    .dataframe tbody tr th {\n",
       "        vertical-align: top;\n",
       "    }\n",
       "\n",
       "    .dataframe thead th {\n",
       "        text-align: right;\n",
       "    }\n",
       "</style>\n",
       "<table border=\"1\" class=\"dataframe\">\n",
       "  <thead>\n",
       "    <tr style=\"text-align: right;\">\n",
       "      <th></th>\n",
       "      <th>variable</th>\n",
       "      <th>value</th>\n",
       "      <th>group</th>\n",
       "    </tr>\n",
       "  </thead>\n",
       "  <tbody>\n",
       "    <tr>\n",
       "      <th>0</th>\n",
       "      <td>Hemoglobin Level</td>\n",
       "      <td>-1.132678</td>\n",
       "      <td>control</td>\n",
       "    </tr>\n",
       "    <tr>\n",
       "      <th>1</th>\n",
       "      <td>Hemoglobin Level</td>\n",
       "      <td>1.185716</td>\n",
       "      <td>control</td>\n",
       "    </tr>\n",
       "    <tr>\n",
       "      <th>2</th>\n",
       "      <td>Hemoglobin Level</td>\n",
       "      <td>-0.182866</td>\n",
       "      <td>control</td>\n",
       "    </tr>\n",
       "    <tr>\n",
       "      <th>3</th>\n",
       "      <td>Hemoglobin Level</td>\n",
       "      <td>-1.031440</td>\n",
       "      <td>control</td>\n",
       "    </tr>\n",
       "    <tr>\n",
       "      <th>4</th>\n",
       "      <td>Hemoglobin Level</td>\n",
       "      <td>-0.163922</td>\n",
       "      <td>control</td>\n",
       "    </tr>\n",
       "  </tbody>\n",
       "</table>\n",
       "</div>"
      ],
      "text/plain": [
       "           variable     value    group\n",
       "0  Hemoglobin Level -1.132678  control\n",
       "1  Hemoglobin Level  1.185716  control\n",
       "2  Hemoglobin Level -0.182866  control\n",
       "3  Hemoglobin Level -1.031440  control\n",
       "4  Hemoglobin Level -0.163922  control"
      ]
     },
     "execution_count": 116,
     "metadata": {},
     "output_type": "execute_result"
    }
   ],
   "source": [
    "df1 = pd.DataFrame(predictive_dist(post_samples_control, Kc))\n",
    "df1.columns = effect_names\n",
    "df1 = df1.melt()\n",
    "df1['group']='control'\n",
    "df1.head()"
   ]
  },
  {
   "cell_type": "code",
   "execution_count": 117,
   "metadata": {},
   "outputs": [
    {
     "data": {
      "text/html": [
       "<div>\n",
       "<style scoped>\n",
       "    .dataframe tbody tr th:only-of-type {\n",
       "        vertical-align: middle;\n",
       "    }\n",
       "\n",
       "    .dataframe tbody tr th {\n",
       "        vertical-align: top;\n",
       "    }\n",
       "\n",
       "    .dataframe thead th {\n",
       "        text-align: right;\n",
       "    }\n",
       "</style>\n",
       "<table border=\"1\" class=\"dataframe\">\n",
       "  <thead>\n",
       "    <tr style=\"text-align: right;\">\n",
       "      <th></th>\n",
       "      <th>variable</th>\n",
       "      <th>value</th>\n",
       "      <th>group</th>\n",
       "    </tr>\n",
       "  </thead>\n",
       "  <tbody>\n",
       "    <tr>\n",
       "      <th>0</th>\n",
       "      <td>Hemoglobin Level</td>\n",
       "      <td>1.108412</td>\n",
       "      <td>treatment</td>\n",
       "    </tr>\n",
       "    <tr>\n",
       "      <th>1</th>\n",
       "      <td>Hemoglobin Level</td>\n",
       "      <td>0.627974</td>\n",
       "      <td>treatment</td>\n",
       "    </tr>\n",
       "    <tr>\n",
       "      <th>2</th>\n",
       "      <td>Hemoglobin Level</td>\n",
       "      <td>-0.684443</td>\n",
       "      <td>treatment</td>\n",
       "    </tr>\n",
       "    <tr>\n",
       "      <th>3</th>\n",
       "      <td>Hemoglobin Level</td>\n",
       "      <td>-0.019205</td>\n",
       "      <td>treatment</td>\n",
       "    </tr>\n",
       "    <tr>\n",
       "      <th>4</th>\n",
       "      <td>Hemoglobin Level</td>\n",
       "      <td>-0.342344</td>\n",
       "      <td>treatment</td>\n",
       "    </tr>\n",
       "  </tbody>\n",
       "</table>\n",
       "</div>"
      ],
      "text/plain": [
       "           variable     value      group\n",
       "0  Hemoglobin Level  1.108412  treatment\n",
       "1  Hemoglobin Level  0.627974  treatment\n",
       "2  Hemoglobin Level -0.684443  treatment\n",
       "3  Hemoglobin Level -0.019205  treatment\n",
       "4  Hemoglobin Level -0.342344  treatment"
      ]
     },
     "execution_count": 117,
     "metadata": {},
     "output_type": "execute_result"
    }
   ],
   "source": [
    "df2 = pd.DataFrame(predictive_dist(post_samples_treat, Kc))\n",
    "df2.columns = effect_names\n",
    "df2 = df2.melt()\n",
    "df2['group']='treatment'\n",
    "df2.head()"
   ]
  },
  {
   "cell_type": "code",
   "execution_count": 118,
   "metadata": {},
   "outputs": [
    {
     "data": {
      "text/html": [
       "<div>\n",
       "<style scoped>\n",
       "    .dataframe tbody tr th:only-of-type {\n",
       "        vertical-align: middle;\n",
       "    }\n",
       "\n",
       "    .dataframe tbody tr th {\n",
       "        vertical-align: top;\n",
       "    }\n",
       "\n",
       "    .dataframe thead th {\n",
       "        text-align: right;\n",
       "    }\n",
       "</style>\n",
       "<table border=\"1\" class=\"dataframe\">\n",
       "  <thead>\n",
       "    <tr style=\"text-align: right;\">\n",
       "      <th></th>\n",
       "      <th>variable</th>\n",
       "      <th>value</th>\n",
       "      <th>group</th>\n",
       "    </tr>\n",
       "  </thead>\n",
       "  <tbody>\n",
       "    <tr>\n",
       "      <th>0</th>\n",
       "      <td>Hemoglobin Level</td>\n",
       "      <td>-1.132678</td>\n",
       "      <td>control</td>\n",
       "    </tr>\n",
       "    <tr>\n",
       "      <th>1</th>\n",
       "      <td>Hemoglobin Level</td>\n",
       "      <td>1.185716</td>\n",
       "      <td>control</td>\n",
       "    </tr>\n",
       "    <tr>\n",
       "      <th>2</th>\n",
       "      <td>Hemoglobin Level</td>\n",
       "      <td>-0.182866</td>\n",
       "      <td>control</td>\n",
       "    </tr>\n",
       "    <tr>\n",
       "      <th>3</th>\n",
       "      <td>Hemoglobin Level</td>\n",
       "      <td>-1.031440</td>\n",
       "      <td>control</td>\n",
       "    </tr>\n",
       "    <tr>\n",
       "      <th>4</th>\n",
       "      <td>Hemoglobin Level</td>\n",
       "      <td>-0.163922</td>\n",
       "      <td>control</td>\n",
       "    </tr>\n",
       "  </tbody>\n",
       "</table>\n",
       "</div>"
      ],
      "text/plain": [
       "           variable     value    group\n",
       "0  Hemoglobin Level -1.132678  control\n",
       "1  Hemoglobin Level  1.185716  control\n",
       "2  Hemoglobin Level -0.182866  control\n",
       "3  Hemoglobin Level -1.031440  control\n",
       "4  Hemoglobin Level -0.163922  control"
      ]
     },
     "execution_count": 118,
     "metadata": {},
     "output_type": "execute_result"
    }
   ],
   "source": [
    "pred_df = pd.concat([df1,df2])\n",
    "pred_df.head()"
   ]
  },
  {
   "cell_type": "code",
   "execution_count": 119,
   "metadata": {},
   "outputs": [
    {
     "data": {
      "image/png": "[encoded data removed]",
      "text/plain": [
       "<Figure size 942.625x288 with 3 Axes>"
      ]
     },
     "metadata": {},
     "output_type": "display_data"
    }
   ],
   "source": [
    "ax = sns.FacetGrid(pred_df, hue=\"group\", col='variable',\n",
    "                   sharex=False, sharey=False,\n",
    "                   legend_out=True, size=4).map(sns.kdeplot, \"value\", shade = True);\n",
    "ax.add_legend();"
   ]
  },
  {
   "cell_type": "markdown",
   "metadata": {},
   "source": [
    "__Acknowledgments__   \n",
    "The author would like to thank Jonah Gabry, Bob Carpenter, Andrew Gelman, and Ben Goodrich for their feedback and help during the process of writing this report.\n",
    "\n",
    "\n",
    "__License__  \n",
    "\n",
    "- Code &copy; 2017, Konstantinos Vamvourellis, licensed under BSD-3   \n",
    "- Text &copy; 2017, Konstantinos Vamvourellis, licensed under CC BY-NC 4.0"
   ]
  },
  {
   "cell_type": "markdown",
   "metadata": {},
   "source": [
    "# References \n",
    "\n",
    " - Chib, S., and E. Greenberg. 1998. “Analysis of Multivariate Probit Models.” Biometrika 85 (2).\n",
    "\n",
    " - Nissen, S. E., and K. Wolski. 2007. “Effect of Rosiglitazone on the Risk of Myocardial Infarction and Death from Cardiovascular Causes.” New England Journal of Medicine 356: 2457–71.\n",
    "\n",
    " - Phillips, Lawrence, Billy Amzal, Alex Asiimwe, Edmond Chan, Chen Chen, Diana Hughes, Juhaeri Juhaeri, et al. 2015. “Wave 2 Case Study Report: Rosiglitazone.”\n",
    "\n",
    " - Phillips, Lawrence, and others. 2013. “IMI Work Package 5: Report 2:b:ii Benefit - Risk Wave 2 Case Study Report: Rosiglitazone.”\n",
    "\n",
    " - Talhouk, A., A. Doucet, and K. Murphy. 2012. “Efficient Bayesian Inference for Multivariate Probit Models with Sparse Inverse Correlation Matrices.” Journal of Computational and Graphical Statistics 21 (3)."
   ]
  },
  {
   "cell_type": "code",
   "execution_count": null,
   "metadata": {},
   "outputs": [],
   "source": []
  }
 ],
 "metadata": {
  "kernelspec": {
   "display_name": "Python 3",
   "language": "python",
   "name": "python3"
  },
  "language_info": {
   "codemirror_mode": {
    "name": "ipython",
    "version": 3
   },
   "file_extension": ".py",
   "mimetype": "text/x-python",
   "name": "python",
   "nbconvert_exporter": "python",
   "pygments_lexer": "ipython3",
   "version": "3.6.4"
  },
  "latex_metadata": {
   "title": "Assessing the Safety of Rosiglitazone for the Treatment of Type 2 Diabetes"
  }
 },
 "nbformat": 4,
 "nbformat_minor": 1
}
