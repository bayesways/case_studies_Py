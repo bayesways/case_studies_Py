{
 "cells": [
  {
   "cell_type": "markdown",
   "metadata": {},
   "source": [
    "# Python 3 Environment"
   ]
  },
  {
   "cell_type": "markdown",
   "metadata": {},
   "source": [
    "You can find instructions for installing PyStan over [here](http://pystan.readthedocs.io/en/latest/installation_beginner.html)."
   ]
  },
  {
   "cell_type": "code",
   "execution_count": 24,
   "metadata": {},
   "outputs": [
    {
     "name": "stdout",
     "output_type": "stream",
     "text": [
      "2.17.1.0\n"
     ]
    }
   ],
   "source": [
    "import pystan\n",
    "\n",
    "print(pystan.__version__)"
   ]
  },
  {
   "cell_type": "code",
   "execution_count": 25,
   "metadata": {},
   "outputs": [],
   "source": [
    "import pickle\n",
    "\n",
    "import matplotlib.pyplot as plt\n",
    "import numpy as np\n",
    "import pandas as pd\n",
    "import seaborn as sns\n",
    "\n",
    "from numpy.linalg import inv, cholesky\n",
    "from numpy.random import uniform\n",
    "from scipy.special import expit\n",
    "from scipy.stats import multivariate_normal, bernoulli"
   ]
  },
  {
   "cell_type": "code",
   "execution_count": 26,
   "metadata": {},
   "outputs": [],
   "source": [
    "# Plot Styling\n",
    "%matplotlib inline\n",
    "sns.set()\n",
    "sns.set_style(\"darkgrid\")\n",
    "color = 'salmon'\n",
    "alpha = .7\n",
    "bins = 100\n",
    "lw = 2\n",
    "linestyle = '-'\n",
    "linecolor = 'r'\n",
    "linealpha = .8"
   ]
  },
  {
   "cell_type": "markdown",
   "metadata": {},
   "source": [
    "# Introduction  \n",
    "\n",
    "Rosiglitazone was authorized to enter the market for the treatment of type 2 diabetes in the United States in 1999 and in the European Union in 2000. New data subsequently emerged about possible cardiovascular risks associated with Rosiglitazone, confirmed by a meta-analysis in Nissen and Wolski (2007), which resulted European countries to suspended and US to partially restrict it. In this casestudy we propose a Bayesian model to help understand the effects of Rosiglitazone. We hope that this model can help regulators interpret clinical trials data and incorporate it in their decision making. \n",
    "\n",
    "## When to approve a drug?\n",
    "\n",
    "Regulators focus on a few key factors when deciding whether a drug is fit to enter the market. In the case of Rosiglitazone, for example, previous work (Phillips et al. 2013). concentrated on 11 of the drug's effects, weighing positive effects against negative effects. Clinical trials data are presented to experts and clinicians to assess the safety of the drug. The clinical analysis of trial data is based on statistical summaries of the data, including averages, standard deviations, and signifiance levels. However, dependencies between the effects are the subject of clinical judgment and are rarely included in the statistical summaries.\n",
    "\n",
    "We propose a Bayesian method to model clinical trial data. This model uses latent variables to account for the whole joint distribution of the treatment effects, including effects of different types. This model will allow us to simulate the effect of the drug on a new patient. Regulators could use this results to inform their decisions on whether to approve a drug or not. \n",
    "\n",
    "## How to model the dependence between discrete and continuous observations?\n",
    "\n",
    "It is common in clinical trials to collect \"yes/no\" data. We want to fully model this process of interrelated dependencies, incorporate the dependence between the different measurements for each person, and account for uncertainty. Furthermore, datapoints collected in clinical trials are routinely of mixed type: binary, continuous, counts, etc. The main purpose of this work is to extend the current framework so that it can incorporate interdependencies between different features, both discrete and continuous.\n",
    "\n",
    "Our data is organized with one subject per row and one effect per column. For example, if our clinical trial dataset records 3 effects per subject, 'Hemoglobin Levels' (continuous), 'Nausea' (yes/no) and 'Dyspepsia' (yes/no) the dataset would look like this:\n",
    "\n",
    "|Subject ID| Group Type|Hemoglobin Level  | Dyspepsia |Nausea |\n",
    "|--------- | --------- | -------- | ---------|---------|\n",
    "|123 | Control    | 3.42  | 1 |0 |\n",
    "|213 | Treatment  | 4.41  | 1 |0 |\n",
    "|431 | Control    | 1.12  | 0 |0 |\n",
    "|224 | Control    | -0.11 | 1 |0 |\n",
    "|224 | Treatment  | 2.42  | 1 |1 |\n",
    "\n",
    "To model the effects of a drug we need a generative model for these 3 effects that also allows for dependencies between these effects. It stands to reason that the probability of a subject experiencing Nausea is not independent of the probability of experiencing Dyspepsia. To this end, we adopt a parametric generative model to learn the covariance matrix directly. \n",
    "\n",
    "We denote the observed data by $y$ and the parameters of the model by $\\theta$. We are then interested in the posterior distribution $\\pi(\\theta | y)$, with which we can draw samples from the distribution of effects $f(y'|y)$ on future, so far unseen, patients $y'$ conditional on observations $y$ as follows:\n",
    "\n",
    "$$\n",
    "f(y'|y) = \\int f(y'|y,\\theta) \\pi(\\theta|y) d\\theta\n",
    "$$\n",
    "In practice we cannot analytically derive the full posterior $\\pi(\\theta | y)$, but we can get samples from it using _Stan_. Consequently, we can approximate the expectation of any function $h(y')$ on the future data\n",
    "$$\n",
    "\\mathbb{E} (h (y') | y) = \\int \\int h(y') f(y'|y,\\theta) \\pi(\\theta|y) d\\theta dy' = \\int h(y') f(y'|y) dy'\n",
    "$$\n",
    "using Monte Carlo.\n",
    "\n",
    "We assume that each subject is independently and identically distributed within its group. We run inference for each group separately and get two sets of parameters, one for the treatment group and one for the placebo, also known as control group. Using the samples from the predictive distribution of each group we can produce samples for the difference between the two groups. Generally, with these posterior samples we can compute any value of interest currently used to decide whether to approve the drug. As an application, we will later show what such an evaluation function looks like and work through a complete example (see Application section).\n",
    "\n",
    "# Methodology\n",
    "\n",
    "Let $Y$ be a $N\\times K$ matrix where each column represents an effect and each row refers to an individual subject. This is our observations, our clinical trials dataset. In order to distinguish the treatment from placebo subjects, we will analyse the data for each group $Y^T$ and $Y^{C}$ separately. As the model for $Y^T$ and $Y^{C}$ is identical, we suppress the notation into $Y$ in the remainder of this section for convenience. Recall that the important feature of the data is that each column in $Y$ may be measured on different scales, i.e. binary, count or continuous etc. The main purpose of this work is to extend the current framework so that it can incorporate interdependencies between different features, both discrete and continuous.\n",
    "\n",
    "We consider the following general latent variable framework. The idea to assign appropriate distributions on each column and apply appropriate transformations on their parameters via user specified link functions $h_{j}(\\cdot)$, so that everything is brought on the same scale. For example, let's fix our attention on the $i$-th subject for a moment. Then if the $j$-th effect is measured in the binary scale, the model can be\n",
    "\n",
    "\\begin{equation}\n",
    "\\label{eq:binary}\n",
    "\\begin{cases}\n",
    "Y_{ij}\\; \\sim\\; \\text{Bernoulli}(\\eta_j),\\;i=1,\\dots,N,\\;Y_{ij} \\text{ independent, for fixed } j\\\\\n",
    "h_{j}(\\eta_j) \\; = \\; \\mu_j + Z_{ij},\\\\\n",
    "\\end{cases}\n",
    "\\end{equation}\n",
    "\n",
    "where the link function can be the logit, probit or any other bijection from $[0, 1]$ to the real line. Similarly, for count data on the $j$-th column we can adopt the following model\n",
    "\n",
    "\\begin{equation}\n",
    "\\label{eq:counts}\n",
    "\\begin{cases}\n",
    "Y_{ij}\\; \\sim\\; \\text{Poisson}(\\eta_j),\\;i=1,\\dots,N,\\;Y_{ij} \\text{ independent, for fixed } j\\\\\n",
    "h_{j}(\\eta_j) \\; = \\; \\mu_j + Z_{ij}. \n",
    "\\end{cases}\n",
    "\\end{equation}\n",
    "\n",
    "where $h_{j}(\\cdot)$ could be the natural logarithm, whereas for continuous data one can simply write \n",
    "\n",
    "\\begin{equation}\n",
    "\\label{eq:contain}\n",
    "Y_{ij}\\; = \\; \\mu_j + Z_{ij},\\;i=1,\\dots,N.\\\\\n",
    "\\end{equation}\n",
    "\n",
    "In order to complete the model we need to define the $N\\times K$ matrix $Z$. Here we use a K-variate Normal distribution $\\mathcal{N}_K(\\cdot)$ on each $Z_{i :}$ row, such that\n",
    "\n",
    "\n",
    "\\begin{equation}\n",
    "\\label{eq:Zdist}\n",
    "Z_{i\\cdot} \\;\\sim\\; \\mathcal{N}_{K}(0_{K},\\Sigma),\n",
    "\\end{equation}\n",
    "\n",
    "where $\\Sigma$ is a $K\\times K$ covariance matrix, $O_{K}$ is a row $K$-dimensional vector with zeros and $Z_{i\\cdot}$ are independent for all $i$. Of course other options are available, e.g. a multivariate $t$.\n",
    "\n",
    "In the model above, vector $\\mu=(\\mu_{1},\\dots,\\mu_K)$ represents quantities related with the mean of each effect, whereas matrix $\\Sigma$ models their covariance. Note that the variance of binary variables is non identifiable (Chib and Greenberg (1998), Talhouk, Doucet, and Murphy (2012)), so we focus on the correlation matrix instead."
   ]
  },
  {
   "cell_type": "markdown",
   "metadata": {},
   "source": [
    "# Stan Code\n",
    "\n",
    "For this case study we use the Bernoulli likelihood for the binary data with a logit link function. The Stan program encoding this model is the following:"
   ]
  },
  {
   "cell_type": "code",
   "execution_count": 4,
   "metadata": {},
   "outputs": [
    {
     "name": "stdout",
     "output_type": "stream",
     "text": [
      "data {\n",
      " int<lower=0> N;\n",
      " int<lower=0> K;\n",
      " int<lower=0> Kb;\n",
      " int<lower=0> Kc;\n",
      " int<lower=0, upper=1> yb[N, Kb];\n",
      " vector[Kc] yc[N];\n",
      "}\n",
      "\n",
      "transformed data {\n",
      "  matrix[Kc, Kc] I = diag_matrix(rep_vector(1, Kc));\n",
      "}\n",
      "\n",
      "parameters {\n",
      "  vector[Kb] zb[N];\n",
      "  cholesky_factor_corr[K] L_R;  // first continuous, then binary\n",
      "  vector<lower=0>[Kc] sigma;\n",
      "  vector[K] mu;\n",
      "}\n",
      "\n",
      "transformed parameters {\n",
      "  matrix[N, Kb] z;\n",
      "  vector[Kc] mu_c = head(mu, Kc);\n",
      "  vector[Kb] mu_b = tail(mu, Kb);\n",
      "  {\n",
      "    matrix[Kc, Kc] L_inv = mdivide_left_tri_low(diag_pre_multiply(sigma, L_R[1:Kc, 1:Kc]), I);\n",
      "    for (n in 1:N){\n",
      "      vector[Kc] resid = L_inv * (yc[n] - mu_c);\n",
      "      z[n,] = transpose(mu_b + tail(L_R * append_row(resid, zb[n]), Kb));\n",
      "    }\n",
      "  }\n",
      "}\n",
      "\n",
      "model {\n",
      "  mu ~ normal(0, 10);\n",
      "  L_R ~ lkj_corr_cholesky(2);\n",
      "  sigma~cauchy(0, 2.5);\n",
      "  yc ~ multi_normal_cholesky(mu_c, diag_pre_multiply(sigma, L_R[1:Kc, 1:Kc]));\n",
      "  for (n in 1:N) zb[n] ~ normal(0, 1);\n",
      "  for (k in 1:Kb) yb[, k] ~ bernoulli_logit(z[, k]);\n",
      "}\n",
      "\n",
      "generated quantities {\n",
      "  matrix[K, K] R = multiply_lower_tri_self_transpose(L_R);\n",
      "  vector[K] full_sigma = append_row(sigma, rep_vector(1, Kb));\n",
      "  matrix[K, K] Sigma = multiply_lower_tri_self_transpose(diag_pre_multiply(full_sigma, L_R));\n",
      "}\n",
      "\n"
     ]
    }
   ],
   "source": [
    "with open('../models/modelcode.stan', 'r') as file:\n",
    "    print(file.read())"
   ]
  },
  {
   "cell_type": "code",
   "execution_count": 6,
   "metadata": {},
   "outputs": [],
   "source": [
    "with open('../models/modelcode.stan', 'r') as file:\n",
    "    model_code = file.read()"
   ]
  },
  {
   "cell_type": "markdown",
   "metadata": {},
   "source": [
    "We will fit the model with synthetic data that we generate as follows: "
   ]
  },
  {
   "cell_type": "code",
   "execution_count": 7,
   "metadata": {},
   "outputs": [],
   "source": [
    "\n",
    "def C_to_R(M):\n",
    "    \"\"\"\n",
    "    Send a covariance matrix M to the corresponding\n",
    "    correlation matrix R\n",
    "    Inputs\n",
    "    ============\n",
    "    - M : covariance matrix\n",
    "    Output\n",
    "    ============\n",
    "    - correlation matrix\n",
    "    \"\"\"\n",
    "\n",
    "    d = np.asarray(M.diagonal())\n",
    "    d2 = np.diag(d**(-.5))\n",
    "    R = np.dot(np.dot(d2, M), d2)\n",
    "    return R\n",
    "\n",
    "\n",
    "def gen_data(N=400, Kb=1, Kc=2, random_seed=234234999):\n",
    "    \"\"\"\n",
    "    Generate data of dimension [N, Kb+Kc]\n",
    "    Inputs\n",
    "    ============\n",
    "    - N : number of rows/subjects\n",
    "    - Kb : number of binary effects\n",
    "    - Kc : number of conitnuous effects\n",
    "    Output\n",
    "    ============\n",
    "    - correlation matrix\n",
    "    \"\"\"\n",
    "    np.random.seed(random_seed)\n",
    "\n",
    "    N1 = N // 2  # size of Group1\n",
    "    N2 = N - N1  # size of Group2\n",
    "    K = Kb + Kc  # total number of effects\n",
    "\n",
    "    A = np.tril(uniform(-1, 1, size=(K, K)))\n",
    "    C = np.dot(A, A.T)\n",
    "    R = C_to_R(C)\n",
    "    \n",
    "    # Choose variances\n",
    "    sigma = uniform(1, 4, size=Kc)\n",
    "    \n",
    "    # Construct the covariance matrix\n",
    "    D = np.diag(np.concatenate((sigma, np.ones(Kb))))  \n",
    "    Sigma =  D.dot(R).dot(D)\n",
    "    \n",
    "    # Means for Group 1\n",
    "    mu_c = uniform(-10, 10, size=Kc)\n",
    "    mu_b = uniform(-1, 1, size=Kb)\n",
    "    mu1 = np.concatenate([mu_c, mu_b], axis=0)\n",
    "\n",
    "    # Means for Group 2\n",
    "    mu2 = mu1.copy()\n",
    "    mu2[:Kc] = mu2[:Kc] + uniform(-5, -3, size=Kc)\n",
    "    mu2[Kc:] = mu2[Kc:] + uniform(-.5, -2, size=Kb)\n",
    "\n",
    "\n",
    "    # group1\n",
    "    z = multivariate_normal.rvs(mean=mu1, cov=Sigma, size=N1)\n",
    "    y1 = np.empty(z.shape)\n",
    "    y1[:, Kc:] = bernoulli.rvs(p=expit(z[:, Kc:]))\n",
    "    y1[:, :Kc] = z[:, :Kc]\n",
    "\n",
    "    # group2\n",
    "    z = multivariate_normal.rvs(mean=mu2, cov=Sigma, size=N2)\n",
    "    y2 = np.empty(z.shape)\n",
    "    y2[:, :Kc] = z[:, :Kc]\n",
    "    y2[:, Kc:] = bernoulli.rvs(p=expit(z[:, :Kb]))\n",
    "\n",
    "\n",
    "    return y1, y2, mu1, mu2, R, sigma, N1, N2, Kb, Kc"
   ]
  },
  {
   "cell_type": "markdown",
   "metadata": {},
   "source": [
    "It's good practice to save the data and posterior samples of the model fit to it. \n",
    "In our case, we will need it again when we demonstrate how to fit the model on the real datasets. For the purposes of this notebook, we will re-use this data in place of the hypothetical control group dataset. We can save the data and the samples as follows:"
   ]
  },
  {
   "cell_type": "code",
   "execution_count": 8,
   "metadata": {},
   "outputs": [],
   "source": [
    "y_control, y_treat, mu_control, mu_treat, R, sigma, N_control, N_treat, Kb, Kc = gen_data(N=400, Kb=4, Kc=2)"
   ]
  },
  {
   "cell_type": "code",
   "execution_count": 9,
   "metadata": {
    "scrolled": true
   },
   "outputs": [],
   "source": [
    "data_control = dict(N=N_control, Kb=Kb, Kc=Kc, K=Kb+Kc, yb=y_control[:, Kc:].astype(int),yc=y_control[:, :Kc])\n",
    "pickle.dump(data_control, open(\"data_control.pkl\", \"wb\"))\n",
    "\n",
    "data_treat = dict(N=N_treat, Kb=Kb, Kc=Kc, K=Kb+Kc, yb=y_treat[:, Kc:].astype(int),yc=y_treat[:, :Kc])\n",
    "pickle.dump(data_treat, open(\"data_treat.pkl\", \"wb\"))"
   ]
  },
  {
   "cell_type": "markdown",
   "metadata": {},
   "source": [
    "We compile the model with the following code."
   ]
  },
  {
   "cell_type": "code",
   "execution_count": 10,
   "metadata": {},
   "outputs": [
    {
     "name": "stderr",
     "output_type": "stream",
     "text": [
      "INFO:pystan:COMPILING THE C++ CODE FOR MODEL anon_model_389cd056347577840573e8f6df0e7636 NOW.\n",
      "INFO:pystan:OS: darwin, Python: 3.6.4 | packaged by conda-forge | (default, Dec 23 2017, 16:54:01) \n",
      "[GCC 4.2.1 Compatible Apple LLVM 6.1.0 (clang-602.0.53)], Cython 0.27.3\n"
     ]
    },
    {
     "name": "stdout",
     "output_type": "stream",
     "text": [
      "Compiling /var/folders/x4/9t2lxpnx30q0xbrfyc3q9ghr0000gn/T/tmpql1gt9ka/stanfit4anon_model_389cd056347577840573e8f6df0e7636_1284273565998195262.pyx because it changed.\n",
      "[1/1] Cythonizing /var/folders/x4/9t2lxpnx30q0xbrfyc3q9ghr0000gn/T/tmpql1gt9ka/stanfit4anon_model_389cd056347577840573e8f6df0e7636_1284273565998195262.pyx\n",
      "building 'stanfit4anon_model_389cd056347577840573e8f6df0e7636_1284273565998195262' extension\n",
      "creating /var/folders/x4/9t2lxpnx30q0xbrfyc3q9ghr0000gn/T/tmpql1gt9ka/var\n",
      "creating /var/folders/x4/9t2lxpnx30q0xbrfyc3q9ghr0000gn/T/tmpql1gt9ka/var/folders\n",
      "creating /var/folders/x4/9t2lxpnx30q0xbrfyc3q9ghr0000gn/T/tmpql1gt9ka/var/folders/x4\n",
      "creating /var/folders/x4/9t2lxpnx30q0xbrfyc3q9ghr0000gn/T/tmpql1gt9ka/var/folders/x4/9t2lxpnx30q0xbrfyc3q9ghr0000gn\n",
      "creating /var/folders/x4/9t2lxpnx30q0xbrfyc3q9ghr0000gn/T/tmpql1gt9ka/var/folders/x4/9t2lxpnx30q0xbrfyc3q9ghr0000gn/T\n",
      "creating /var/folders/x4/9t2lxpnx30q0xbrfyc3q9ghr0000gn/T/tmpql1gt9ka/var/folders/x4/9t2lxpnx30q0xbrfyc3q9ghr0000gn/T/tmpql1gt9ka\n",
      "gcc -Wno-unused-result -Wsign-compare -Wunreachable-code -DNDEBUG -g -fwrapv -O3 -Wall -Wstrict-prototypes -I/Users/Konstantin/anaconda2/envs/rosi_py/include -arch x86_64 -I/Users/Konstantin/anaconda2/envs/rosi_py/include -arch x86_64 -DBOOST_RESULT_OF_USE_TR1 -DBOOST_NO_DECLTYPE -DBOOST_DISABLE_ASSERTS -I/var/folders/x4/9t2lxpnx30q0xbrfyc3q9ghr0000gn/T/tmpql1gt9ka -I/Users/Konstantin/anaconda2/envs/rosi_py/lib/python3.6/site-packages/pystan -I/Users/Konstantin/anaconda2/envs/rosi_py/lib/python3.6/site-packages/pystan/stan/src -I/Users/Konstantin/anaconda2/envs/rosi_py/lib/python3.6/site-packages/pystan/stan/lib/stan_math -I/Users/Konstantin/anaconda2/envs/rosi_py/lib/python3.6/site-packages/pystan/stan/lib/stan_math/lib/eigen_3.3.3 -I/Users/Konstantin/anaconda2/envs/rosi_py/lib/python3.6/site-packages/pystan/stan/lib/stan_math/lib/boost_1.64.0 -I/Users/Konstantin/anaconda2/envs/rosi_py/lib/python3.6/site-packages/pystan/stan/lib/stan_math/lib/cvodes_2.9.0/include -I/Users/Konstantin/anaconda2/envs/rosi_py/lib/python3.6/site-packages/numpy/core/include -I/Users/Konstantin/anaconda2/envs/rosi_py/include/python3.6m -c /var/folders/x4/9t2lxpnx30q0xbrfyc3q9ghr0000gn/T/tmpql1gt9ka/stanfit4anon_model_389cd056347577840573e8f6df0e7636_1284273565998195262.cpp -o /var/folders/x4/9t2lxpnx30q0xbrfyc3q9ghr0000gn/T/tmpql1gt9ka/var/folders/x4/9t2lxpnx30q0xbrfyc3q9ghr0000gn/T/tmpql1gt9ka/stanfit4anon_model_389cd056347577840573e8f6df0e7636_1284273565998195262.o -O2 -ftemplate-depth-256 -Wno-unused-function -Wno-uninitialized\n",
      "g++ -bundle -undefined dynamic_lookup -Wl,-rpath,/Users/Konstantin/anaconda2/envs/rosi_py/lib -L/Users/Konstantin/anaconda2/envs/rosi_py/lib -headerpad_max_install_names -Wl,-rpath,/Users/Konstantin/anaconda2/envs/rosi_py/lib -L/Users/Konstantin/anaconda2/envs/rosi_py/lib -headerpad_max_install_names -arch x86_64 /var/folders/x4/9t2lxpnx30q0xbrfyc3q9ghr0000gn/T/tmpql1gt9ka/var/folders/x4/9t2lxpnx30q0xbrfyc3q9ghr0000gn/T/tmpql1gt9ka/stanfit4anon_model_389cd056347577840573e8f6df0e7636_1284273565998195262.o -L/Users/Konstantin/anaconda2/envs/rosi_py/lib -o /var/folders/x4/9t2lxpnx30q0xbrfyc3q9ghr0000gn/T/tmpql1gt9ka/stanfit4anon_model_389cd056347577840573e8f6df0e7636_1284273565998195262.cpython-36m-darwin.so\n"
     ]
    }
   ],
   "source": [
    "sm = pystan.StanModel(model_code=model_code, verbose=True)"
   ]
  },
  {
   "cell_type": "markdown",
   "metadata": {},
   "source": [
    "We fit the model with the following code"
   ]
  },
  {
   "cell_type": "code",
   "execution_count": 11,
   "metadata": {},
   "outputs": [
    {
     "name": "stderr",
     "output_type": "stream",
     "text": [
      "/Users/Konstantin/anaconda2/envs/rosi_py/lib/python3.6/site-packages/pystan/misc.py:399: FutureWarning: Conversion of the second argument of issubdtype from `float` to `np.floating` is deprecated. In future, it will be treated as `np.float64 == np.dtype(float).type`.\n",
      "  elif np.issubdtype(np.asarray(v).dtype, float):\n"
     ]
    }
   ],
   "source": [
    "fit = sm.sampling(data=data_control, iter=200, chains=1)"
   ]
  },
  {
   "cell_type": "markdown",
   "metadata": {},
   "source": [
    "We save the extracted samples to be used later again"
   ]
  },
  {
   "cell_type": "code",
   "execution_count": 12,
   "metadata": {},
   "outputs": [],
   "source": [
    "post_samples = fit.extract(permuted=True)  # return a dictionary of arrays\n",
    "pickle.dump(post_samples, open(\"fit_control.pkl\", \"wb\"))"
   ]
  },
  {
   "cell_type": "markdown",
   "metadata": {},
   "source": [
    "To avoid waiting we can load the pre-fit result as follows:"
   ]
  },
  {
   "cell_type": "code",
   "execution_count": 13,
   "metadata": {},
   "outputs": [],
   "source": [
    "post_samples = pickle.load(open(\"fit_control.pkl\", \"rb\"))"
   ]
  },
  {
   "cell_type": "markdown",
   "metadata": {},
   "source": [
    "## Model Diagnostics\n",
    "We see that max `Rhat` values are good, below 1.01. The effective sample size `n_eff` is good and the rest of the diagnostics are clean.\n",
    "Below we plot histograms of posterior samples for the mean, correlations and variance of the effects against the true values. "
   ]
  },
  {
   "cell_type": "code",
   "execution_count": 14,
   "metadata": {
    "scrolled": false
   },
   "outputs": [
    {
     "name": "stdout",
     "output_type": "stream",
     "text": [
      "Inference for Stan model: anon_model_389cd056347577840573e8f6df0e7636.\n",
      "1 chains, each with iter=200; warmup=100; thin=1; \n",
      "post-warmup draws per chain=100, total post-warmup draws=100.\n",
      "\n",
      "           mean se_mean     sd   2.5%    25%    50%    75%  97.5%  n_eff   Rhat\n",
      "mu[0]     -7.53    0.02   0.16  -7.84  -7.64  -7.52   -7.4  -7.23     94   1.02\n",
      "mu[1]     -2.48  6.8e-3   0.07  -2.59  -2.52  -2.48  -2.44  -2.32    100   0.99\n",
      "mu[2]     -0.55    0.02   0.17  -0.93  -0.66  -0.55  -0.42  -0.23     68   1.04\n",
      "mu[3]     -0.78    0.02   0.18  -1.06  -0.91  -0.79  -0.65   -0.4    100   0.99\n",
      "mu[4]     -0.29    0.02   0.16  -0.59  -0.42  -0.29  -0.19   0.02    100   0.99\n",
      "mu[5]     -0.45    0.02   0.17  -0.76  -0.58  -0.46  -0.34  -0.11     49   0.99\n",
      "R[0,0]      1.0     0.0    0.0    1.0    1.0    1.0    1.0    1.0    100    nan\n",
      "R[1,0]     0.18  6.5e-3   0.06   0.06   0.14   0.18   0.22   0.31     83   1.02\n",
      "R[2,0]     0.22    0.01   0.14  -0.07   0.12   0.24   0.33   0.47    100   0.99\n",
      "R[3,0]     0.26    0.02   0.16  -0.13   0.15   0.28    0.4   0.53     54   1.04\n",
      "R[4,0]     0.47    0.01   0.15   0.21   0.36   0.48   0.58   0.77    100   0.99\n",
      "R[5,0]     0.04    0.02   0.19  -0.32  -0.08   0.03   0.18   0.36    100    1.0\n",
      "R[0,1]     0.18  6.5e-3   0.06   0.06   0.14   0.18   0.22   0.31     83   1.02\n",
      "R[1,1]      1.0 1.1e-179.6e-17    1.0    1.0    1.0    1.0    1.0     74    nan\n",
      "R[2,1]    -0.64    0.01   0.11  -0.81  -0.71  -0.65  -0.57  -0.39    100   0.99\n",
      "R[3,1]     0.43    0.02   0.14   0.17   0.33   0.44   0.55   0.67     83   1.01\n",
      "R[4,1]    -0.09    0.02   0.17   -0.5  -0.18  -0.07   0.03    0.2     58   1.01\n",
      "R[5,1]    -0.43    0.02   0.15  -0.72  -0.54  -0.41  -0.32  -0.15    100   1.01\n",
      "R[0,2]     0.22    0.01   0.14  -0.07   0.12   0.24   0.33   0.47    100   0.99\n",
      "R[1,2]    -0.64    0.01   0.11  -0.81  -0.71  -0.65  -0.57  -0.39    100   0.99\n",
      "R[2,2]      1.0 3.9e-183.9e-17    1.0    1.0    1.0    1.0    1.0    100    nan\n",
      "R[3,2]    -0.14    0.03   0.25  -0.55  -0.33  -0.15   0.01   0.38     76   0.99\n",
      "R[4,2]      0.3    0.03   0.24  -0.18   0.12   0.31   0.48   0.75     84   0.99\n",
      "R[5,2]     0.32    0.04   0.24  -0.08   0.14   0.33   0.47   0.78     42   0.99\n",
      "R[0,3]     0.26    0.02   0.16  -0.13   0.15   0.28    0.4   0.53     54   1.04\n",
      "R[1,3]     0.43    0.02   0.14   0.17   0.33   0.44   0.55   0.67     83   1.01\n",
      "R[2,3]    -0.14    0.03   0.25  -0.55  -0.33  -0.15   0.01   0.38     76   0.99\n",
      "R[3,3]      1.0 1.0e-179.3e-17    1.0    1.0    1.0    1.0    1.0     78    nan\n",
      "R[4,3]     0.23    0.02   0.21  -0.19   0.08   0.22   0.38   0.65     89   0.99\n",
      "R[5,3]    -0.31    0.04   0.28  -0.79  -0.52  -0.31  -0.12   0.28     51   0.99\n",
      "R[0,4]     0.47    0.01   0.15   0.21   0.36   0.48   0.58   0.77    100   0.99\n",
      "R[1,4]    -0.09    0.02   0.17   -0.5  -0.18  -0.07   0.03    0.2     58   1.01\n",
      "R[2,4]      0.3    0.03   0.24  -0.18   0.12   0.31   0.48   0.75     84   0.99\n",
      "R[3,4]     0.23    0.02   0.21  -0.19   0.08   0.22   0.38   0.65     89   0.99\n",
      "R[4,4]      1.0 6.9e-186.6e-17    1.0    1.0    1.0    1.0    1.0     91    nan\n",
      "R[5,4]     0.37    0.02   0.23  -0.13   0.22   0.38   0.56   0.78    100   1.01\n",
      "R[0,5]     0.04    0.02   0.19  -0.32  -0.08   0.03   0.18   0.36    100    1.0\n",
      "R[1,5]    -0.43    0.02   0.15  -0.72  -0.54  -0.41  -0.32  -0.15    100   1.01\n",
      "R[2,5]     0.32    0.04   0.24  -0.08   0.14   0.33   0.47   0.78     42   0.99\n",
      "R[3,5]    -0.31    0.04   0.28  -0.79  -0.52  -0.31  -0.12   0.28     51   0.99\n",
      "R[4,5]     0.37    0.02   0.23  -0.13   0.22   0.38   0.56   0.78    100   1.01\n",
      "R[5,5]      1.0 8.7e-187.6e-17    1.0    1.0    1.0    1.0    1.0     76    nan\n",
      "sigma[0]   2.28    0.02   0.13   2.04   2.19   2.27   2.35   2.54     72   0.99\n",
      "sigma[1]   0.99  4.8e-3   0.05   0.89   0.95   0.99   1.02   1.09    100   0.99\n",
      "\n",
      "Samples were drawn using NUTS at Sat May 12 14:07:26 2018.\n",
      "For each parameter, n_eff is a crude measure of effective sample size,\n",
      "and Rhat is the potential scale reduction factor on split chains (at \n",
      "convergence, Rhat=1).\n"
     ]
    }
   ],
   "source": [
    "print(pystan.misc.stansummary(fit, pars=['mu', 'R', 'sigma']))"
   ]
  },
  {
   "cell_type": "code",
   "execution_count": 15,
   "metadata": {},
   "outputs": [
    {
     "data": {
      "image/png": "[encoded data removed]",
      "text/plain": [
       "<Figure size 576x576 with 6 Axes>"
      ]
     },
     "metadata": {},
     "output_type": "display_data"
    }
   ],
   "source": [
    "K = Kb + Kc\n",
    "title = \"Mean Values\"\n",
    "true_values = mu_control\n",
    "df = pd.DataFrame(post_samples['mu'])\n",
    "df.columns = [str(x) for x in range(K)]\n",
    "\n",
    "ax = df.plot.hist(subplots=True, title=title, color=color,\n",
    "                  sharex=True, sharey =False,\n",
    "                  alpha=alpha, bins=bins,\n",
    "                  figsize=(8,8));\n",
    "\n",
    "for i in range(df.shape[1]):\n",
    "    ax[i].axvline(true_values[i], color=linecolor, alpha=linealpha, linestyle=linestyle, lw=lw);"
   ]
  },
  {
   "cell_type": "code",
   "execution_count": 16,
   "metadata": {},
   "outputs": [
    {
     "data": {
      "image/png": "[encoded data removed]",
      "text/plain": [
       "<Figure size 576x288 with 2 Axes>"
      ]
     },
     "metadata": {},
     "output_type": "display_data"
    }
   ],
   "source": [
    "title = \"Sigma Values\"\n",
    "true_values = sigma\n",
    "df = pd.DataFrame(post_samples['sigma'])\n",
    "df.columns = [str(x) for x in range(Kc)]\n",
    "\n",
    "ax = df.plot.hist(subplots=True, title=title, color=color,\n",
    "                  sharex=True, sharey =False,\n",
    "                  alpha=alpha, bins=bins,\n",
    "                  figsize=(8,4));\n",
    "\n",
    "for i in range(df.shape[1]):\n",
    "    ax[i].axvline(true_values[i], color=linecolor, alpha=linealpha, linestyle=linestyle, lw=lw);"
   ]
  },
  {
   "cell_type": "code",
   "execution_count": 17,
   "metadata": {
    "scrolled": false
   },
   "outputs": [
    {
     "data": {
      "image/png": "[encoded data removed]",
      "text/plain": [
       "<Figure size 576x1440 with 15 Axes>"
      ]
     },
     "metadata": {},
     "output_type": "display_data"
    }
   ],
   "source": [
    "def flatten_corr(a):\n",
    "    return a[np.triu_indices(a.shape[0], k=1)]\n",
    "\n",
    "\n",
    "title = \"Correlation Values\"\n",
    "true_values= R[np.triu_indices(R.shape[0], k=1)]\n",
    "\n",
    "\n",
    "Rs = post_samples['R']\n",
    "num_of_samples = Rs.shape[0]\n",
    "\n",
    "colnames = np.array([str(x) for x in range(K)])\n",
    "cnames = zip(colnames[np.triu_indices(colnames.shape[0], k=1)[0]],\n",
    "             colnames[np.triu_indices(colnames.shape[0], k=1)[1]])\n",
    "\n",
    "cnames = list(cnames)\n",
    "\n",
    "M = len(cnames)\n",
    "fRs = np.empty((num_of_samples, M))\n",
    "for i in range (num_of_samples):\n",
    "    fRs[i, :] = flatten_corr(Rs[i, :, :])\n",
    "\n",
    "df = pd.DataFrame(fRs)\n",
    "df.columns = cnames\n",
    "\n",
    "\n",
    "ax = df.plot.hist(subplots=True, title=title, color=color,\n",
    "                  sharex=True, sharey =False,\n",
    "                  alpha=alpha, bins=bins,\n",
    "                  figsize=(8,20));\n",
    "\n",
    "for i in range(df.shape[1]):\n",
    "    ax[i].axvline(true_values[i], color=linecolor, alpha=linealpha, linestyle=linestyle, lw=lw);"
   ]
  },
  {
   "cell_type": "markdown",
   "metadata": {},
   "source": [
    "__Acknowledgments__   \n",
    "The author would like to thank Jonah Gabry, Bob Carpenter, Andrew Gelman, and Ben Goodrich (who practically wrote the Stan code) for their feedback and help during the process of writing this report.\n",
    "\n",
    "\n",
    "__License__  \n",
    "\n",
    "- Code &copy; 2017, Konstantinos Vamvourellis, licensed under BSD-3   \n",
    "- Text &copy; 2017, Konstantinos Vamvourellis, licensed under CC BY-NC 4.0"
   ]
  },
  {
   "cell_type": "markdown",
   "metadata": {},
   "source": [
    "# References \n",
    "\n",
    " - Chib, S., and E. Greenberg. 1998. “Analysis of Multivariate Probit Models.” Biometrika 85 (2).\n",
    "\n",
    " - Nissen, S. E., and K. Wolski. 2007. “Effect of Rosiglitazone on the Risk of Myocardial Infarction and Death from Cardiovascular Causes.” New England Journal of Medicine 356: 2457–71.\n",
    "\n",
    " - Phillips, Lawrence, Billy Amzal, Alex Asiimwe, Edmond Chan, Chen Chen, Diana Hughes, Juhaeri Juhaeri, et al. 2015. “Wave 2 Case Study Report: Rosiglitazone.”\n",
    "\n",
    " - Phillips, Lawrence, and others. 2013. “IMI Work Package 5: Report 2:b:ii Benefit - Risk Wave 2 Case Study Report: Rosiglitazone.”\n",
    "\n",
    " - Talhouk, A., A. Doucet, and K. Murphy. 2012. “Efficient Bayesian Inference for Multivariate Probit Models with Sparse Inverse Correlation Matrices.” Journal of Computational and Graphical Statistics 21 (3)."
   ]
  }
 ],
 "metadata": {
  "kernelspec": {
   "display_name": "Python 3",
   "language": "python",
   "name": "python3"
  },
  "language_info": {
   "codemirror_mode": {
    "name": "ipython",
    "version": 3
   },
   "file_extension": ".py",
   "mimetype": "text/x-python",
   "name": "python",
   "nbconvert_exporter": "python",
   "pygments_lexer": "ipython3",
   "version": "3.6.4"
  },
  "latex_metadata": {
   "title": "Assessing the Safety of Rosiglitazone for the Treatment of Type 2 Diabetes"
  }
 },
 "nbformat": 4,
 "nbformat_minor": 1
}
